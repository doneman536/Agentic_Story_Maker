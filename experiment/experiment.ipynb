{
 "cells": [
  {
   "cell_type": "code",
   "execution_count": 50,
   "id": "c596756c",
   "metadata": {},
   "outputs": [],
   "source": [
    "from langgraph.graph import START , StateGraph, END\n",
    "from langgraph.prebuilt import ToolNode, tools_condition\n",
    "from langchain_openai  import ChatOpenAI\n",
    "from langchain.prompts import PromptTemplate\n",
    "from langgraph.graph.message import add_messages\n",
    "from langchain_core.messages import AnyMessage\n",
    "from langchain.chains import LLMChain, ConversationChain\n",
    "from langchain.memory import ConversationBufferMemory"
   ]
  },
  {
   "cell_type": "code",
   "execution_count": 21,
   "id": "77c84e84",
   "metadata": {},
   "outputs": [],
   "source": [
    "from typing_extensions import TypedDict\n",
    "from typing import Annotated\n",
    "\n",
    "class State(TypedDict):\n",
    "    messages : Annotated[list[AnyMessage],add_messages]"
   ]
  },
  {
   "cell_type": "code",
   "execution_count": 3,
   "id": "38535036",
   "metadata": {},
   "outputs": [],
   "source": [
    "llm = ChatOpenAI(model=\"gpt-4o-mini\")"
   ]
  },
  {
   "cell_type": "code",
   "execution_count": 4,
   "id": "933d54bd",
   "metadata": {},
   "outputs": [],
   "source": [
    "chapter_template = \"\"\"\n",
    "Template for Story Creation with Agentic AI\n",
    "\n",
    "Objective:\n",
    "You are a vital component of Agentic AI, designed to assist users in creating engaging stories.\n",
    "\n",
    "Remeber : \n",
    "The plot of story and chapter should be UNIQUE and more more natural.\n",
    "\n",
    "Your Role:\n",
    "- Develop chapter titles based on the user's input.\n",
    "- Generate story content upon user requests, aligning with the specified chapters.\n",
    "\n",
    "Your Mission:\n",
    "Upon receiving this prompt, consider it the beginning of a new story. Your primary task is to create compelling story chapters based on the user input provided below:\n",
    "\n",
    "{messages}\n",
    "\n",
    "Now, it’s time to generate chapter titles for the story. Ensure they align with the specified plot of story ({plot}) and adhere to the maximum number of chapters ({max_chapters}).\n",
    "\n",
    "Your return type (json) :\n",
    "{chapter_response_formate}\n",
    "\"\"\"\n"
   ]
  },
  {
   "cell_type": "code",
   "execution_count": 5,
   "id": "fd0c3154",
   "metadata": {},
   "outputs": [],
   "source": [
    "chapter_response_formate = '''\n",
    "    {\n",
    "        Story_Name : \" \",\n",
    "        Chapters : {\n",
    "            chapter_number : chapter name,\n",
    "            .....\n",
    "        }\n",
    "    }\n",
    "'''"
   ]
  },
  {
   "cell_type": "code",
   "execution_count": 77,
   "id": "bea40f01",
   "metadata": {},
   "outputs": [],
   "source": [
    "def chapter_maker(messages : State):\n",
    "    '''\n",
    "\n",
    "    This function is used to create chapter based on the given zoner of the story to be created.\n",
    "    It will create chapters and save the chapters created in a file and keep a trace of the chapters created.\n",
    "\n",
    "    '''\n",
    "\n",
    "    plot = input(\"Enter the senario for the story :- \")\n",
    "    max_chapters = input(\"Enter the number of chapters for the story :- \")\n",
    "\n",
    "    chapter_gen_prompt = PromptTemplate(\n",
    "        input_variables = [messages,plot, max_chapters] ,\n",
    "        template = chapter_template\n",
    "    )\n",
    "\n",
    "\n",
    "\n",
    "    llm_for_chapter = ChatOpenAI(model=\"gpt-4o-mini\")\n",
    "    chapter_gen_prompt = PromptTemplate(\n",
    "        input_variables = [messages,plot, max_chapters, chapter_response_formate] ,\n",
    "        template = chapter_template\n",
    "    )\n",
    "    chain = LLMChain(\n",
    "        llm = llm_for_chapter,\n",
    "        prompt = chapter_gen_prompt\n",
    "    )\n",
    "\n",
    "    respone = {\n",
    "        \"messages\": chain.invoke({\n",
    "            \"messages\": messages['messages'],\n",
    "            \"plot\": plot,\n",
    "            \"max_chapters\": max_chapters,\n",
    "            \"chapter_response_formate\": chapter_response_formate\n",
    "    })}\n",
    "    # chapter = respone['messages'][-1]\n",
    "    return respone\n",
    "\n"
   ]
  },
  {
   "cell_type": "code",
   "execution_count": 72,
   "id": "74ffed5e",
   "metadata": {},
   "outputs": [],
   "source": [
    "from langchain_core.messages import HumanMessage\n",
    "messages = {'messages': HumanMessage(content=\"Let start\")}\n",
    "plot = \"A group of friends stuck in forest and they found that they stuck in a loop, if they dont find way out they each will die on every 65.7 hours, make use this hints to slove this puzzle , like why every one will die at 65.7 hours. \"\n",
    "max_chapters = '12'\n"
   ]
  },
  {
   "cell_type": "code",
   "execution_count": 76,
   "id": "5fd47a46",
   "metadata": {},
   "outputs": [],
   "source": [
    "messages = {'messages': HumanMessage(content=\"Let start\")}\n",
    "res = chapter_maker(messages)"
   ]
  },
  {
   "cell_type": "code",
   "execution_count": 75,
   "id": "a336fb62",
   "metadata": {},
   "outputs": [
    {
     "name": "stdout",
     "output_type": "stream",
     "text": [
      "```json\n",
      "{\n",
      "    \"Story_Name\": \"Shadows of Betrayal\",\n",
      "    \"Chapters\": {\n",
      "        \"1\": \"The Unlikely Trio\",\n",
      "        \"2\": \"A Night to Remember\",\n",
      "        \"3\": \"Whispers in the Dark\",\n",
      "        \"4\": \"Crossroads of Deceit\",\n",
      "        \"5\": \"Secrets Unearthed\",\n",
      "        \"6\": \"Escape from Shadows\"\n",
      "    }\n",
      "}\n",
      "```\n"
     ]
    }
   ],
   "source": [
    "print(res['messages']['text'])"
   ]
  }
 ],
 "metadata": {
  "kernelspec": {
   "display_name": "Python 3",
   "language": "python",
   "name": "python3"
  },
  "language_info": {
   "codemirror_mode": {
    "name": "ipython",
    "version": 3
   },
   "file_extension": ".py",
   "mimetype": "text/x-python",
   "name": "python",
   "nbconvert_exporter": "python",
   "pygments_lexer": "ipython3",
   "version": "3.11.1"
  }
 },
 "nbformat": 4,
 "nbformat_minor": 5
}
